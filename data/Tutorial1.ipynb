{
 "cells": [
  {
   "cell_type": "markdown",
   "metadata": {
    "collapsed": false
   },
   "source": [
    "# CLPS1520 Tutorial 1\n",
    "## Functions covered in this tutorial: \n",
    "### `imresize, for/while loops, imshow, imwrite, imread, rgb2gray, mean, min, max, if clauses`"
   ]
  },
  {
   "cell_type": "markdown",
   "metadata": {
    "collapsed": false
   },
   "source": [
    "Hello, welcome to the first tutorial of the CLPS1520 Computational Vision class. My name is Michele, and I'll be going over some useful Matlab functions today. Unlike most other languages, Matlab is unique in that it has a dedicated function for pretty much anything.  Powerful and complex computations can be done efficiently in short lines if you know what you're doing. The goal of these tutorials is to give you experience with some of the functions that we feel would be useful in completing the modeling assignments, as well as to give you more practice if the language is new for you."
   ]
  },
  {
   "cell_type": "markdown",
   "metadata": {},
   "source": [
    "A really helpful guide to Matlab programming can be found in your OCRA course reserves: MATLAB for Neuroscientists : An Introduction to Scientific Computing in MATLAB. After following the provided link to the textbook, you’ll have access to a thorough introduction to Matlab programming as well as more background on digital image representation in Matlab.\n"
   ]
  },
  {
   "cell_type": "markdown",
   "metadata": {},
   "source": [
    "**A quick note about Matlab syntax:** the semicolon \"`;`\" supresses the output of executable code in Matlab. Run the cells below by pressing CTRL+Enter to see an example."
   ]
  },
  {
   "cell_type": "code",
   "execution_count": 13,
   "metadata": {
    "collapsed": true
   },
   "outputs": [
    {
     "name": "stdout",
     "output_type": "stream",
     "text": [
      "\n",
      "A =\n",
      "\n",
      "     4\n",
      "\n"
     ]
    }
   ],
   "source": [
    "A = 2+2"
   ]
  },
  {
   "cell_type": "code",
   "execution_count": 12,
   "metadata": {
    "collapsed": true
   },
   "outputs": [],
   "source": [
    "A = 2+2;"
   ]
  },
  {
   "cell_type": "markdown",
   "metadata": {},
   "source": [
    "The second cell does not produce an output because it was supressed by the \"`;`\". This will be useful to use when working with large datasets so that you don’t print the output every time you do a calculation. And with that, let's get right in."
   ]
  },
  {
   "cell_type": "markdown",
   "metadata": {},
   "source": [
    "In computational vision, we'll be working often with images, which can be represented in many different ways. Matlab stores information in arrays, and thus, a grayscale image is simply a _two-dimensional array of pixel intensities; the brightest pixels are closer to 255 and the darkest pixels are closer to 0._ \n",
    "\n",
    "The numbering convention is from early days of computing, when computers had little memory. Information was stored using 8-bit integers, with 255 as the largest integer. Today, this limit has been surpassed, and so you can store images in a plethora of formats/scales. You can read this Matlab documentation on the supported classes for images: http://www.mathworks.com/help/matlab/creating_plots/working-with-8-bit-and-16-bit-images.html. \n",
    "\n",
    "It goes over 8-bit, and 16-bit images, as well as the necessity of double precision. Some Matlab functions require integer inputs (8-bit and 16-bit), or double precision (Matlab default). You can convert integer inputs to double precision and vice versa by:\n",
    "> `double(image);`\n",
    "\n",
    "> `uint8(image);`\n",
    "\n",
    "> `uint16(image);`\n",
    "\n",
    "Going back to human vision, most people see in varying ranges of color, which relies on more stored information per pixel than grayscale. Let's first start with loading a color image into our Matlab workspace. We will use the imread function to do this."
   ]
  },
  {
   "cell_type": "code",
   "execution_count": 2,
   "metadata": {
    "collapsed": true
   },
   "outputs": [],
   "source": [
    "circle = imread('circle.png'); "
   ]
  },
  {
   "cell_type": "markdown",
   "metadata": {},
   "source": [
    "Before looking at the image to see what color it is, why don’t we try to figure it out by checking the RGB values of the image. First, we can check the dimensions of the image using the function size. Call \"size\" on circle in the empty cell below."
   ]
  },
  {
   "cell_type": "code",
   "execution_count": 16,
   "metadata": {
    "collapsed": true
   },
   "outputs": [
    {
     "name": "stdout",
     "output_type": "stream",
     "text": [
      "\n",
      "ans =\n",
      "\n",
      "   250   250     3\n",
      "\n"
     ]
    }
   ],
   "source": []
  },
  {
   "cell_type": "markdown",
   "metadata": {},
   "source": [
    "Here, you can see that the image is represented as a 3 dimensional array. The first two dimensions, the height and width of the image, are both 250. Now, we see that the third dimension is 3 deep. This third dimension represents the RGB values that the image is represented in."
   ]
  },
  {
   "cell_type": "markdown",
   "metadata": {},
   "source": [
    "Now that we have a 3 dimensional matrix in Matlab, we have to know how to access the values we want in that matrix. With an understanding of basic indexing, we know that to get the first pixel in the first column of the first row of the image, we can write:"
   ]
  },
  {
   "cell_type": "code",
   "execution_count": 17,
   "metadata": {
    "collapsed": true
   },
   "outputs": [
    {
     "name": "stdout",
     "output_type": "stream",
     "text": [
      "\n",
      "ans =\n",
      "\n",
      "  255\n",
      "\n"
     ]
    }
   ],
   "source": [
    "circle(1,1)"
   ]
  },
  {
   "cell_type": "markdown",
   "metadata": {},
   "source": [
    "This would give us the value of the first pixel, if we were dealing with a 2 dimensional array. We can use the “:” to mean “get us all the values in this dimension”, and put that in for the third dimension. If we do this, we will get all three values (all RGB values) for the first pixel in the image."
   ]
  },
  {
   "cell_type": "code",
   "execution_count": 18,
   "metadata": {
    "collapsed": true
   },
   "outputs": [
    {
     "name": "stdout",
     "output_type": "stream",
     "text": [
      "\n",
      "ans(:,:,1) =\n",
      "\n",
      "  255\n",
      "\n",
      "\n",
      "ans(:,:,2) =\n",
      "\n",
      "  255\n",
      "\n",
      "\n",
      "ans(:,:,3) =\n",
      "\n",
      "  255\n",
      "\n"
     ]
    }
   ],
   "source": [
    "circle(1,1,:)"
   ]
  },
  {
   "cell_type": "markdown",
   "metadata": {},
   "source": [
    "To get just the G value of the first pixel, we can replace the \":\" with the index of the G channel in the third dimension. Do this in the cell below."
   ]
  },
  {
   "cell_type": "code",
   "execution_count": 19,
   "metadata": {
    "collapsed": true
   },
   "outputs": [
    {
     "name": "stdout",
     "output_type": "stream",
     "text": [
      "\n",
      "ans =\n",
      "\n",
      "  255\n",
      "\n"
     ]
    }
   ],
   "source": []
  },
  {
   "cell_type": "markdown",
   "metadata": {},
   "source": [
    "We can also get a range of values, using the : from before, but this time sandwiched between two numbers. Try to get the first 10x10 pixels of the image just from the R channel using range indexing from 1 to 10."
   ]
  },
  {
   "cell_type": "code",
   "execution_count": 20,
   "metadata": {
    "collapsed": true
   },
   "outputs": [
    {
     "name": "stdout",
     "output_type": "stream",
     "text": [
      "\n",
      "ans =\n",
      "\n",
      "  255  255  255  255  255  255  255  255  255  255\n",
      "  255  255  255  255  255  255  255  255  255  255\n",
      "  255  255  255  255  255  255  255  255  255  255\n",
      "  255  255  255  255  255  255  255  255  255  255\n",
      "  255  255  255  255  255  255  255  255  255  255\n",
      "  255  255  255  255  255  255  255  255  255  255\n",
      "  255  255  255  255  255  255  255  255  255  255\n",
      "  255  255  255  255  255  255  255  255  255  255\n",
      "  255  255  255  255  255  255  255  255  255  255\n",
      "  255  255  255  255  255  255  255  255  255  255\n",
      "\n"
     ]
    }
   ],
   "source": []
  },
  {
   "cell_type": "markdown",
   "metadata": {},
   "source": [
    "Why don’t we see what the RGB values are for each pixel in the image? \n",
    "\n",
    "First, we should resize the image into something we can more easily see as a matrix, because your screen (and mine) can’t hold the 250x250 matrix. We can use the function imresize to make it more manageable. \n",
    "\n",
    "In the cell below, resize the circle to a scale of 0.05 the original, and name the output \"``smallcircle``\". "
   ]
  },
  {
   "cell_type": "code",
   "execution_count": 22,
   "metadata": {
    "collapsed": false
   },
   "outputs": [],
   "source": [
    "___ = imresize(circle, ___);"
   ]
  },
  {
   "cell_type": "markdown",
   "metadata": {},
   "source": [
    "This resized the image to 13x13 matrices, a 0.05 scale of what the image originally was. You can save this new image using the imwrite function. \n",
    "\n",
    "In the cell below, replace \"variable\" and \"string\" with the correct variable of the image you just created and the name of what you want the image to be saved as. The ``.png`` extension will save it as a PNG file."
   ]
  },
  {
   "cell_type": "code",
   "execution_count": 24,
   "metadata": {
    "collapsed": false
   },
   "outputs": [],
   "source": [
    "imwrite(variable, 'string.png');"
   ]
  },
  {
   "cell_type": "markdown",
   "metadata": {},
   "source": [
    "Now, look at the the values of smallcircle."
   ]
  },
  {
   "cell_type": "code",
   "execution_count": 25,
   "metadata": {
    "collapsed": true
   },
   "outputs": [
    {
     "name": "stdout",
     "output_type": "stream",
     "text": [
      "\n",
      "smallcircle(:,:,1) =\n",
      "\n",
      "  255  255  255  255  255  255  255  255  255  255  255  255  255\n",
      "  255  255  255  255  255  255  255  255  255  255  255  255  255\n",
      "  255  255  255  255  255  255  255  255  255  255  255  255  255\n",
      "  255  255  255  255  255  255  255  255  255  255  255  255  255\n",
      "  255  255  255  255  255  255  255  255  255  255  255  255  255\n",
      "  255  255  255  255  255  255  255  255  255  255  255  255  255\n",
      "  255  255  255  255  255  255  255  255  255  255  255  255  255\n",
      "  255  255  255  255  255  255  255  255  255  255  255  255  255\n",
      "  255  255  255  255  255  255  255  255  255  255  255  255  255\n",
      "  255  255  255  255  255  255  255  255  255  255  255  255  255\n",
      "  255  255  255  255  255  255  255  255  255  255  255  255  255\n",
      "  255  255  255  255  255  255  255  255  255  255  255  255  255\n",
      "  255  255  255  255  255  255  255  255  255  255  255  255  255\n",
      "\n",
      "\n",
      "smallcircle(:,:,2) =\n",
      "\n",
      "  255  255  255  255  255  255  255  255  255  255  255  255  255\n",
      "  255  255  255  255  255  255  255  255  255  255  255  255  255\n",
      "  255  255  255  248  155   69   55  102  212  255  255  255  255\n",
      "  255  255  250   88    0    0    0    0   16  187  255  255  255\n",
      "  255  255  154    0    0    0    0    0    0   43  244  255  255\n",
      "  255  255   73    0    0    0    0    0    0    0  192  255  255\n",
      "  255  255   59    0    0    0    0    0    0    0  179  255  255\n",
      "  255  255  105    0    0    0    0    0    0   11  217  255  255\n",
      "  255  255  211   18    0    0    0    0    0  105  255  255  255\n",
      "  255  255  255  188   40    0    0    7  106  245  255  255  255\n",
      "  255  255  255  255  242  191  177  217  255  255  255  255  255\n",
      "  255  255  255  255  255  255  255  255  255  255  255  255  255\n",
      "  255  255  255  255  255  255  255  255  255  255  255  255  255\n",
      "\n",
      "\n",
      "smallcircle(:,:,3) =\n",
      "\n",
      "  255  255  255  255  255  255  255  255  255  255  255  255  255\n",
      "  255  255  255  255  255  255  255  255  255  255  255  255  255\n",
      "  255  255  255  248  155   69   55  102  212  255  255  255  255\n",
      "  255  255  250   88    0    0    0    0   16  187  255  255  255\n",
      "  255  255  154    0    0    0    0    0    0   43  244  255  255\n",
      "  255  255   73    0    0    0    0    0    0    0  192  255  255\n",
      "  255  255   59    0    0    0    0    0    0    0  179  255  255\n",
      "  255  255  105    0    0    0    0    0    0   11  217  255  255\n",
      "  255  255  211   18    0    0    0    0    0  105  255  255  255\n",
      "  255  255  255  188   40    0    0    7  106  245  255  255  255\n",
      "  255  255  255  255  242  191  177  217  255  255  255  255  255\n",
      "  255  255  255  255  255  255  255  255  255  255  255  255  255\n",
      "  255  255  255  255  255  255  255  255  255  255  255  255  255\n",
      "\n"
     ]
    }
   ],
   "source": []
  },
  {
   "cell_type": "markdown",
   "metadata": {},
   "source": [
    "From this, you can see the individual RGB channels of the image. You can see that all the pixels in the R matrix are 255. So, in the image, the R channel is always expressed. For G and B, you can see that they are expressed everywhere at 255, but not in a circular area in the middle of the image. So, finally, we know that the image has a white background (where all three RGB channels are expressed at 255), and a red circle in the middle (where R is still 255, but G and B are 0). Now, you can view the image you just loaded.\n",
    "\n",
    "You can visualize images using two different functions: **`imagesc`** and **`imshow`**. These two functions have slightly different use cases, which you can fully explore by using the doc command in Matlab, as in: \n",
    "> doc imagesc or doc imshow \n",
    "\n",
    "Simply put, imshow displays a grayscale, RGB, or binary image, whereas imagesc displays an image with scaled colors based on a color map. In this situation, we want to see the RGB colors of the image, and so **`imshow`** is sufficient for this.\n",
    "\n",
    "Call imshow on smallcircle."
   ]
  },
  {
   "cell_type": "code",
   "execution_count": 28,
   "metadata": {
    "collapsed": true
   },
   "outputs": [
    {
     "data": {
      "image/png": "[encoded data removed]",
      "text/plain": [
       "<IPython.core.display.Image object>"
      ]
     },
     "metadata": {},
     "output_type": "display_data"
    }
   ],
   "source": []
  },
  {
   "cell_type": "markdown",
   "metadata": {},
   "source": [
    "And there, you can see that our deduction was correct! You see a small image of a red circle on a white background. You can also use imshow on the original circle, to see the difference in scale between the two images."
   ]
  },
  {
   "cell_type": "code",
   "execution_count": 29,
   "metadata": {
    "collapsed": true
   },
   "outputs": [
    {
     "data": {
      "image/png": "[encoded data removed]",
      "text/plain": [
       "<IPython.core.display.Image object>"
      ]
     },
     "metadata": {},
     "output_type": "display_data"
    }
   ],
   "source": []
  },
  {
   "cell_type": "markdown",
   "metadata": {},
   "source": [
    "Now, we are going to try and change the red circle to a blue circle. One way to do is, is to change all the R channel pixels for the circle to 0, keep the G channel the same, and change all the B channel pixels for the circle to 255. We can do this using a for loop. \n",
    "\n",
    "There are many different ways to go through every pixel in the image. Though it’s not the most efficient, we want to introduce the use of loops, so we’re going to use two nested for loops - one for the columns of the image, and one for the rows. Then, we’ll need to go through every pixel in the B channel (third layer of the third dimension), and see where there is a pixel with a value of zero. Then, at the same location in the image, but in the R channel, we will convert that pixel to 0, and change the pixel in the B channel to 255. In summary, we are going to swap the pixel intensities of the R and B channels. The code to do this should look like this:"
   ]
  },
  {
   "cell_type": "code",
   "execution_count": 3,
   "metadata": {
    "collapsed": false
   },
   "outputs": [],
   "source": [
    "bluecircle = circle;\n",
    "for col = 1:250;\n",
    "    for row = 1:250;\n",
    "        if  bluecircle(col,row,3) == 0; % finds Blue dimension pixel not equal 255\n",
    "            bluecircle(col,row,1) = 0; % converts Red dimimension pixel to 0\n",
    "            bluecircle(col,row,3) = 255; % converts Blue dimension pixel to 255\n",
    "        end\n",
    "    end\n",
    "end"
   ]
  },
  {
   "cell_type": "markdown",
   "metadata": {},
   "source": [
    "Notice that in the function, we never changed anything to the G channel of the image, so in the new image, it should stay the same. Now, let’s see the image we edited, using imshow."
   ]
  },
  {
   "cell_type": "code",
   "execution_count": null,
   "metadata": {
    "collapsed": true
   },
   "outputs": [],
   "source": []
  },
  {
   "cell_type": "markdown",
   "metadata": {},
   "source": [
    "We can also save this new circle as its own image. Save it in the cell below using imwrite"
   ]
  },
  {
   "cell_type": "code",
   "execution_count": null,
   "metadata": {
    "collapsed": true
   },
   "outputs": [],
   "source": []
  },
  {
   "cell_type": "markdown",
   "metadata": {},
   "source": [
    "Now that you've seen the code to convert the red circle to a blue circle, try to modify the code to convert the circle into a green circle. You can start with either the red or blue circle for the conversion. Write and execute in the cell below."
   ]
  },
  {
   "cell_type": "code",
   "execution_count": null,
   "metadata": {
    "collapsed": true
   },
   "outputs": [],
   "source": []
  },
  {
   "cell_type": "markdown",
   "metadata": {},
   "source": [
    "We can also convert color images to grayscale images using the **`rgb2gray`** function. Call `rgb2gray` on the blue circle, save it as \"graycircle\" and then visualize the gray circle using `imshow`."
   ]
  },
  {
   "cell_type": "code",
   "execution_count": 34,
   "metadata": {
    "collapsed": true
   },
   "outputs": [
    {
     "data": {
      "image/png": "[encoded data removed]",
      "text/plain": [
       "<IPython.core.display.Image object>"
      ]
     },
     "metadata": {},
     "output_type": "display_data"
    }
   ],
   "source": []
  },
  {
   "cell_type": "markdown",
   "metadata": {},
   "source": [
    "Now that we have a grayscale image, we can use the functions: **`mean, min, max`** to visualize the distribution of pixel intensities throughout the image."
   ]
  },
  {
   "cell_type": "code",
   "execution_count": 35,
   "metadata": {
    "collapsed": true
   },
   "outputs": [
    {
     "name": "stdout",
     "output_type": "stream",
     "text": [
      "\n",
      "ans =\n",
      "\n",
      "  Columns 1 through 15\n",
      "\n",
      "  255  255  255  255  255  255  255  255  255  255  255  255  255  255  255\n",
      "\n",
      "  Columns 16 through 30\n",
      "\n",
      "  255  255  255  255  255  255  255  255  255  255  255  255  255  255  255\n",
      "\n",
      "  Columns 31 through 45\n",
      "\n",
      "  255  255  255  255  255  255  255  255  255  255  255  255  255  255  255\n",
      "\n",
      "  Columns 46 through 60\n",
      "\n",
      "  255  255  255  255  255  255  255  255  255  255  255  255  255  255  255\n",
      "\n",
      "  Columns 61 through 75\n",
      "\n",
      "  255  255  255  255  255  255  255  255  255  255  255  255  255  255  255\n",
      "\n",
      "  Columns 76 through 90\n",
      "\n",
      "  255  255  255  255  255  255  255  255  255  255  255  255  255  255  255\n",
      "\n",
      "  Columns 91 through 105\n",
      "\n",
      "  255  255  255  255  255  255  255  255  255  255  255  255  255  255  255\n",
      "\n",
      "  Columns 106 through 120\n",
      "\n",
      "  255  255  255  255  255  255  255  255  255  255  255  255  255  255  255\n",
      "\n",
      "  Columns 121 through 135\n",
      "\n",
      "  255  255  255  255  255  255  255  255  255  255  255  255  255  255  255\n",
      "\n",
      "  Columns 136 through 150\n",
      "\n",
      "  255  255  255  255  255  255  255  255  255  255  255  255  255  255  255\n",
      "\n",
      "  Columns 151 through 165\n",
      "\n",
      "  255  255  255  255  255  255  255  255  255  255  255  255  255  255  255\n",
      "\n",
      "  Columns 166 through 180\n",
      "\n",
      "  255  255  255  255  255  255  255  255  255  255  255  255  255  255  255\n",
      "\n",
      "  Columns 181 through 195\n",
      "\n",
      "  255  255  255  255  255  255  255  255  255  255  255  255  255  255  255\n",
      "\n",
      "  Columns 196 through 210\n",
      "\n",
      "  255  255  255  255  255  255  255  255  255  255  255  255  255  255  255\n",
      "\n",
      "  Columns 211 through 225\n",
      "\n",
      "  255  255  255  255  255  255  255  255  255  255  255  255  255  255  255\n",
      "\n",
      "  Columns 226 through 240\n",
      "\n",
      "  255  255  255  255  255  255  255  255  255  255  255  255  255  255  255\n",
      "\n",
      "  Columns 241 through 250\n",
      "\n",
      "  255  255  255  255  255  255  255  255  255  255\n",
      "\n"
     ]
    }
   ],
   "source": [
    "max(graycircle)"
   ]
  },
  {
   "cell_type": "markdown",
   "metadata": {},
   "source": [
    "This returns the maximum value of each column (255). "
   ]
  },
  {
   "cell_type": "code",
   "execution_count": 37,
   "metadata": {
    "collapsed": true
   },
   "outputs": [
    {
     "name": "stdout",
     "output_type": "stream",
     "text": [
      "\n",
      "ans =\n",
      "\n",
      "  Columns 1 through 15\n",
      "\n",
      "  255  255  255  255  255  255  255  255  255  255  255  255  255  255  255\n",
      "\n",
      "  Columns 16 through 30\n",
      "\n",
      "  255  255  255  255  255  255  255  255  255  255  255  255  255  255  255\n",
      "\n",
      "  Columns 31 through 45\n",
      "\n",
      "  255  255  255  255  255  255  255  255  255  255  255  255  255  255   29\n",
      "\n",
      "  Columns 46 through 60\n",
      "\n",
      "   29   29   29   29   29   29   29   29   29   29   29   29   29   29   29\n",
      "\n",
      "  Columns 61 through 75\n",
      "\n",
      "   29   29   29   29   29   29   29   29   29   29   29   29   29   29   29\n",
      "\n",
      "  Columns 76 through 90\n",
      "\n",
      "   29   29   29   29   29   29   29   29   29   29   29   29   29   29   29\n",
      "\n",
      "  Columns 91 through 105\n",
      "\n",
      "   29   29   29   29   29   29   29   29   29   29   29   29   29   29   29\n",
      "\n",
      "  Columns 106 through 120\n",
      "\n",
      "   29   29   29   29   29   29   29   29   29   29   29   29   29   29   29\n",
      "\n",
      "  Columns 121 through 135\n",
      "\n",
      "   29   29   29   29   29   29   29   29   29   29   29   29   29   29   29\n",
      "\n",
      "  Columns 136 through 150\n",
      "\n",
      "   29   29   29   29   29   29   29   29   29   29   29   29   29   29   29\n",
      "\n",
      "  Columns 151 through 165\n",
      "\n",
      "   29   29   29   29   29   29   29   29   29   29   29   29   29   29   29\n",
      "\n",
      "  Columns 166 through 180\n",
      "\n",
      "   29   29   29   29   29   29   29   29   29   29   29   29   29   29   29\n",
      "\n",
      "  Columns 181 through 195\n",
      "\n",
      "   29   29   29   29   29   29   29   29   29   29   29   29   29   29   29\n",
      "\n",
      "  Columns 196 through 210\n",
      "\n",
      "   29   29   29   29   29   29   29   29   29   29   29  255  255  255  255\n",
      "\n",
      "  Columns 211 through 225\n",
      "\n",
      "  255  255  255  255  255  255  255  255  255  255  255  255  255  255  255\n",
      "\n",
      "  Columns 226 through 240\n",
      "\n",
      "  255  255  255  255  255  255  255  255  255  255  255  255  255  255  255\n",
      "\n",
      "  Columns 241 through 250\n",
      "\n",
      "  255  255  255  255  255  255  255  255  255  255\n",
      "\n"
     ]
    }
   ],
   "source": [
    "min(graycircle)"
   ]
  },
  {
   "cell_type": "markdown",
   "metadata": {},
   "source": [
    "This returns 29 for the columns that go across the circle, because `graycircle` has a pixel intensity of 29.\n",
    "\n",
    "Finally, we can see the mean value for the columns of the `graycircle` image."
   ]
  },
  {
   "cell_type": "code",
   "execution_count": 38,
   "metadata": {
    "collapsed": true
   },
   "outputs": [
    {
     "name": "stdout",
     "output_type": "stream",
     "text": [
      "\n",
      "ans =\n",
      "\n",
      "  Columns 1 through 7\n",
      "\n",
      "  255.0000  255.0000  255.0000  255.0000  255.0000  255.0000  255.0000\n",
      "\n",
      "  Columns 8 through 14\n",
      "\n",
      "  255.0000  255.0000  255.0000  255.0000  255.0000  255.0000  255.0000\n",
      "\n",
      "  Columns 15 through 21\n",
      "\n",
      "  255.0000  255.0000  255.0000  255.0000  255.0000  255.0000  255.0000\n",
      "\n",
      "  Columns 22 through 28\n",
      "\n",
      "  255.0000  255.0000  255.0000  255.0000  255.0000  255.0000  255.0000\n",
      "\n",
      "  Columns 29 through 35\n",
      "\n",
      "  255.0000  255.0000  255.0000  255.0000  255.0000  255.0000  255.0000\n",
      "\n",
      "  Columns 36 through 42\n",
      "\n",
      "  255.0000  255.0000  255.0000  255.0000  255.0000  255.0000  255.0000\n",
      "\n",
      "  Columns 43 through 49\n",
      "\n",
      "  255.0000  255.0000  236.9200  224.2640  218.8400  211.6080  206.1840\n",
      "\n",
      "  Columns 50 through 56\n",
      "\n",
      "  200.7600  197.1440  193.5280  189.9120  186.2960  182.6800  179.0640\n",
      "\n",
      "  Columns 57 through 63\n",
      "\n",
      "  177.2560  173.6400  171.8320  168.2160  166.4080  164.6000  160.9840\n",
      "\n",
      "  Columns 64 through 70\n",
      "\n",
      "  159.1760  157.3680  155.5600  153.7520  151.9440  150.1360  148.3280\n",
      "\n",
      "  Columns 71 through 77\n",
      "\n",
      "  146.5200  144.7120  142.9040  141.0960  141.0960  139.2880  137.4800\n",
      "\n",
      "  Columns 78 through 84\n",
      "\n",
      "  135.6720  135.6720  133.8640  132.0560  132.0560  130.2480  128.4400\n",
      "\n",
      "  Columns 85 through 91\n",
      "\n",
      "  128.4400  126.6320  126.6320  124.8240  124.8240  123.0160  123.0160\n",
      "\n",
      "  Columns 92 through 98\n",
      "\n",
      "  121.2080  121.2080  119.4000  119.4000  117.5920  117.5920  117.5920\n",
      "\n",
      "  Columns 99 through 105\n",
      "\n",
      "  115.7840  115.7840  115.7840  113.9760  113.9760  113.9760  112.1680\n",
      "\n",
      "  Columns 106 through 112\n",
      "\n",
      "  112.1680  112.1680  112.1680  110.3600  110.3600  110.3600  110.3600\n",
      "\n",
      "  Columns 113 through 119\n",
      "\n",
      "  110.3600  110.3600  108.5520  108.5520  108.5520  108.5520  108.5520\n",
      "\n",
      "  Columns 120 through 126\n",
      "\n",
      "  108.5520  108.5520  108.5520  108.5520  108.5520  108.5520  108.5520\n",
      "\n",
      "  Columns 127 through 133\n",
      "\n",
      "  108.5520  108.5520  108.5520  108.5520  108.5520  108.5520  108.5520\n",
      "\n",
      "  Columns 134 through 140\n",
      "\n",
      "  108.5520  108.5520  108.5520  110.3600  110.3600  110.3600  110.3600\n",
      "\n",
      "  Columns 141 through 147\n",
      "\n",
      "  110.3600  110.3600  112.1680  112.1680  112.1680  112.1680  113.9760\n",
      "\n",
      "  Columns 148 through 154\n",
      "\n",
      "  113.9760  113.9760  115.7840  115.7840  115.7840  117.5920  117.5920\n",
      "\n",
      "  Columns 155 through 161\n",
      "\n",
      "  117.5920  119.4000  119.4000  121.2080  121.2080  123.0160  123.0160\n",
      "\n",
      "  Columns 162 through 168\n",
      "\n",
      "  124.8240  124.8240  126.6320  126.6320  128.4400  128.4400  130.2480\n",
      "\n",
      "  Columns 169 through 175\n",
      "\n",
      "  132.0560  132.0560  133.8640  135.6720  135.6720  137.4800  139.2880\n",
      "\n",
      "  Columns 176 through 182\n",
      "\n",
      "  141.0960  141.0960  142.9040  144.7120  146.5200  148.3280  150.1360\n",
      "\n",
      "  Columns 183 through 189\n",
      "\n",
      "  151.9440  153.7520  155.5600  157.3680  159.1760  160.9840  164.6000\n",
      "\n",
      "  Columns 190 through 196\n",
      "\n",
      "  166.4080  168.2160  171.8320  173.6400  177.2560  179.0640  182.6800\n",
      "\n",
      "  Columns 197 through 203\n",
      "\n",
      "  186.2960  189.9120  193.5280  197.1440  200.7600  206.1840  211.6080\n",
      "\n",
      "  Columns 204 through 210\n",
      "\n",
      "  217.0320  224.2640  235.1120  255.0000  255.0000  255.0000  255.0000\n",
      "\n",
      "  Columns 211 through 217\n",
      "\n",
      "  255.0000  255.0000  255.0000  255.0000  255.0000  255.0000  255.0000\n",
      "\n",
      "  Columns 218 through 224\n",
      "\n",
      "  255.0000  255.0000  255.0000  255.0000  255.0000  255.0000  255.0000\n",
      "\n",
      "  Columns 225 through 231\n",
      "\n",
      "  255.0000  255.0000  255.0000  255.0000  255.0000  255.0000  255.0000\n",
      "\n",
      "  Columns 232 through 238\n",
      "\n",
      "  255.0000  255.0000  255.0000  255.0000  255.0000  255.0000  255.0000\n",
      "\n",
      "  Columns 239 through 245\n",
      "\n",
      "  255.0000  255.0000  255.0000  255.0000  255.0000  255.0000  255.0000\n",
      "\n",
      "  Columns 246 through 250\n",
      "\n",
      "  255.0000  255.0000  255.0000  255.0000  255.0000\n",
      "\n"
     ]
    }
   ],
   "source": [
    "mean(graycircle)"
   ]
  },
  {
   "cell_type": "markdown",
   "metadata": {},
   "source": [
    "This returns the mean of the values for each column in the image. For max and min, you can also set which dimension you would like it to calculate the values for. To get the max pixel intensity of each row, we can write:"
   ]
  },
  {
   "cell_type": "code",
   "execution_count": 39,
   "metadata": {
    "collapsed": true
   },
   "outputs": [
    {
     "name": "stdout",
     "output_type": "stream",
     "text": [
      "\n",
      "ans =\n",
      "\n",
      "  255\n",
      "  255\n",
      "  255\n",
      "  255\n",
      "  255\n",
      "  255\n",
      "  255\n",
      "  255\n",
      "  255\n",
      "  255\n",
      "  255\n",
      "  255\n",
      "  255\n",
      "  255\n",
      "  255\n",
      "  255\n",
      "  255\n",
      "  255\n",
      "  255\n",
      "  255\n",
      "  255\n",
      "  255\n",
      "  255\n",
      "  255\n",
      "  255\n",
      "  255\n",
      "  255\n",
      "  255\n",
      "  255\n",
      "  255\n",
      "  255\n",
      "  255\n",
      "  255\n",
      "  255\n",
      "  255\n",
      "  255\n",
      "  255\n",
      "  255\n",
      "  255\n",
      "  255\n",
      "  255\n",
      "  255\n",
      "  255\n",
      "  255\n",
      "  255\n",
      "  255\n",
      "  255\n",
      "  255\n",
      "  255\n",
      "  255\n",
      "  255\n",
      "  255\n",
      "  255\n",
      "  255\n",
      "  255\n",
      "  255\n",
      "  255\n",
      "  255\n",
      "  255\n",
      "  255\n",
      "  255\n",
      "  255\n",
      "  255\n",
      "  255\n",
      "  255\n",
      "  255\n",
      "  255\n",
      "  255\n",
      "  255\n",
      "  255\n",
      "  255\n",
      "  255\n",
      "  255\n",
      "  255\n",
      "  255\n",
      "  255\n",
      "  255\n",
      "  255\n",
      "  255\n",
      "  255\n",
      "  255\n",
      "  255\n",
      "  255\n",
      "  255\n",
      "  255\n",
      "  255\n",
      "  255\n",
      "  255\n",
      "  255\n",
      "  255\n",
      "  255\n",
      "  255\n",
      "  255\n",
      "  255\n",
      "  255\n",
      "  255\n",
      "  255\n",
      "  255\n",
      "  255\n",
      "  255\n",
      "  255\n",
      "  255\n",
      "  255\n",
      "  255\n",
      "  255\n",
      "  255\n",
      "  255\n",
      "  255\n",
      "  255\n",
      "  255\n",
      "  255\n",
      "  255\n",
      "  255\n",
      "  255\n",
      "  255\n",
      "  255\n",
      "  255\n",
      "  255\n",
      "  255\n",
      "  255\n",
      "  255\n",
      "  255\n",
      "  255\n",
      "  255\n",
      "  255\n",
      "  255\n",
      "  255\n",
      "  255\n",
      "  255\n",
      "  255\n",
      "  255\n",
      "  255\n",
      "  255\n",
      "  255\n",
      "  255\n",
      "  255\n",
      "  255\n",
      "  255\n",
      "  255\n",
      "  255\n",
      "  255\n",
      "  255\n",
      "  255\n",
      "  255\n",
      "  255\n",
      "  255\n",
      "  255\n",
      "  255\n",
      "  255\n",
      "  255\n",
      "  255\n",
      "  255\n",
      "  255\n",
      "  255\n",
      "  255\n",
      "  255\n",
      "  255\n",
      "  255\n",
      "  255\n",
      "  255\n",
      "  255\n",
      "  255\n",
      "  255\n",
      "  255\n",
      "  255\n",
      "  255\n",
      "  255\n",
      "  255\n",
      "  255\n",
      "  255\n",
      "  255\n",
      "  255\n",
      "  255\n",
      "  255\n",
      "  255\n",
      "  255\n",
      "  255\n",
      "  255\n",
      "  255\n",
      "  255\n",
      "  255\n",
      "  255\n",
      "  255\n",
      "  255\n",
      "  255\n",
      "  255\n",
      "  255\n",
      "  255\n",
      "  255\n",
      "  255\n",
      "  255\n",
      "  255\n",
      "  255\n",
      "  255\n",
      "  255\n",
      "  255\n",
      "  255\n",
      "  255\n",
      "  255\n",
      "  255\n",
      "  255\n",
      "  255\n",
      "  255\n",
      "  255\n",
      "  255\n",
      "  255\n",
      "  255\n",
      "  255\n",
      "  255\n",
      "  255\n",
      "  255\n",
      "  255\n",
      "  255\n",
      "  255\n",
      "  255\n",
      "  255\n",
      "  255\n",
      "  255\n",
      "  255\n",
      "  255\n",
      "  255\n",
      "  255\n",
      "  255\n",
      "  255\n",
      "  255\n",
      "  255\n",
      "  255\n",
      "  255\n",
      "  255\n",
      "  255\n",
      "  255\n",
      "  255\n",
      "  255\n",
      "  255\n",
      "  255\n",
      "  255\n",
      "  255\n",
      "  255\n",
      "  255\n",
      "  255\n",
      "  255\n",
      "  255\n",
      "  255\n",
      "  255\n",
      "  255\n",
      "  255\n",
      "  255\n",
      "  255\n",
      "  255\n",
      "  255\n",
      "\n"
     ]
    }
   ],
   "source": [
    "max(graycircle, [], 2)"
   ]
  },
  {
   "cell_type": "markdown",
   "metadata": {},
   "source": [
    "This vertical vector of the maximum pixel intensities in each row of the image. To choose which dimension you want to get the mean values of, you just need to write:"
   ]
  },
  {
   "cell_type": "code",
   "execution_count": 40,
   "metadata": {
    "collapsed": true
   },
   "outputs": [
    {
     "name": "stdout",
     "output_type": "stream",
     "text": [
      "\n",
      "ans =\n",
      "\n",
      "  255.0000\n",
      "  255.0000\n",
      "  255.0000\n",
      "  255.0000\n",
      "  255.0000\n",
      "  255.0000\n",
      "  255.0000\n",
      "  255.0000\n",
      "  255.0000\n",
      "  255.0000\n",
      "  255.0000\n",
      "  255.0000\n",
      "  255.0000\n",
      "  255.0000\n",
      "  255.0000\n",
      "  255.0000\n",
      "  255.0000\n",
      "  255.0000\n",
      "  255.0000\n",
      "  255.0000\n",
      "  255.0000\n",
      "  255.0000\n",
      "  255.0000\n",
      "  255.0000\n",
      "  255.0000\n",
      "  255.0000\n",
      "  255.0000\n",
      "  255.0000\n",
      "  255.0000\n",
      "  255.0000\n",
      "  255.0000\n",
      "  255.0000\n",
      "  255.0000\n",
      "  255.0000\n",
      "  255.0000\n",
      "  255.0000\n",
      "  255.0000\n",
      "  255.0000\n",
      "  255.0000\n",
      "  255.0000\n",
      "  255.0000\n",
      "  255.0000\n",
      "  255.0000\n",
      "  255.0000\n",
      "  235.1120\n",
      "  224.2640\n",
      "  217.0320\n",
      "  211.6080\n",
      "  206.1840\n",
      "  200.7600\n",
      "  197.1440\n",
      "  193.5280\n",
      "  189.9120\n",
      "  186.2960\n",
      "  182.6800\n",
      "  179.0640\n",
      "  177.2560\n",
      "  173.6400\n",
      "  171.8320\n",
      "  168.2160\n",
      "  166.4080\n",
      "  164.6000\n",
      "  160.9840\n",
      "  159.1760\n",
      "  157.3680\n",
      "  155.5600\n",
      "  153.7520\n",
      "  151.9440\n",
      "  150.1360\n",
      "  148.3280\n",
      "  146.5200\n",
      "  144.7120\n",
      "  142.9040\n",
      "  141.0960\n",
      "  141.0960\n",
      "  139.2880\n",
      "  137.4800\n",
      "  135.6720\n",
      "  135.6720\n",
      "  133.8640\n",
      "  132.0560\n",
      "  132.0560\n",
      "  130.2480\n",
      "  128.4400\n",
      "  128.4400\n",
      "  126.6320\n",
      "  126.6320\n",
      "  124.8240\n",
      "  124.8240\n",
      "  123.0160\n",
      "  123.0160\n",
      "  121.2080\n",
      "  121.2080\n",
      "  119.4000\n",
      "  119.4000\n",
      "  117.5920\n",
      "  117.5920\n",
      "  117.5920\n",
      "  115.7840\n",
      "  115.7840\n",
      "  115.7840\n",
      "  113.9760\n",
      "  113.9760\n",
      "  113.9760\n",
      "  113.0720\n",
      "  112.1680\n",
      "  112.1680\n",
      "  112.1680\n",
      "  110.3600\n",
      "  110.3600\n",
      "  110.3600\n",
      "  110.3600\n",
      "  110.3600\n",
      "  110.3600\n",
      "  109.4560\n",
      "  108.5520\n",
      "  108.5520\n",
      "  108.5520\n",
      "  108.5520\n",
      "  108.5520\n",
      "  108.5520\n",
      "  108.5520\n",
      "  108.5520\n",
      "  108.5520\n",
      "  108.5520\n",
      "  108.5520\n",
      "  108.5520\n",
      "  108.5520\n",
      "  108.5520\n",
      "  108.5520\n",
      "  108.5520\n",
      "  108.5520\n",
      "  108.5520\n",
      "  108.5520\n",
      "  108.5520\n",
      "  109.4560\n",
      "  110.3600\n",
      "  110.3600\n",
      "  110.3600\n",
      "  110.3600\n",
      "  110.3600\n",
      "  110.3600\n",
      "  112.1680\n",
      "  112.1680\n",
      "  112.1680\n",
      "  113.0720\n",
      "  113.9760\n",
      "  113.9760\n",
      "  113.9760\n",
      "  115.7840\n",
      "  115.7840\n",
      "  115.7840\n",
      "  117.5920\n",
      "  117.5920\n",
      "  117.5920\n",
      "  119.4000\n",
      "  119.4000\n",
      "  121.2080\n",
      "  121.2080\n",
      "  123.0160\n",
      "  123.0160\n",
      "  124.8240\n",
      "  124.8240\n",
      "  126.6320\n",
      "  126.6320\n",
      "  128.4400\n",
      "  128.4400\n",
      "  130.2480\n",
      "  132.0560\n",
      "  132.0560\n",
      "  133.8640\n",
      "  135.6720\n",
      "  135.6720\n",
      "  137.4800\n",
      "  139.2880\n",
      "  141.0960\n",
      "  141.0960\n",
      "  142.9040\n",
      "  144.7120\n",
      "  146.5200\n",
      "  148.3280\n",
      "  150.1360\n",
      "  151.9440\n",
      "  153.7520\n",
      "  155.5600\n",
      "  157.3680\n",
      "  159.1760\n",
      "  160.9840\n",
      "  164.6000\n",
      "  166.4080\n",
      "  168.2160\n",
      "  171.8320\n",
      "  173.6400\n",
      "  177.2560\n",
      "  179.0640\n",
      "  182.6800\n",
      "  186.2960\n",
      "  189.9120\n",
      "  193.5280\n",
      "  197.1440\n",
      "  200.7600\n",
      "  206.1840\n",
      "  211.6080\n",
      "  217.0320\n",
      "  224.2640\n",
      "  235.1120\n",
      "  255.0000\n",
      "  255.0000\n",
      "  255.0000\n",
      "  255.0000\n",
      "  255.0000\n",
      "  255.0000\n",
      "  255.0000\n",
      "  255.0000\n",
      "  255.0000\n",
      "  255.0000\n",
      "  255.0000\n",
      "  255.0000\n",
      "  255.0000\n",
      "  255.0000\n",
      "  255.0000\n",
      "  255.0000\n",
      "  255.0000\n",
      "  255.0000\n",
      "  255.0000\n",
      "  255.0000\n",
      "  255.0000\n",
      "  255.0000\n",
      "  255.0000\n",
      "  255.0000\n",
      "  255.0000\n",
      "  255.0000\n",
      "  255.0000\n",
      "  255.0000\n",
      "  255.0000\n",
      "  255.0000\n",
      "  255.0000\n",
      "  255.0000\n",
      "  255.0000\n",
      "  255.0000\n",
      "  255.0000\n",
      "  255.0000\n",
      "  255.0000\n",
      "  255.0000\n",
      "  255.0000\n",
      "  255.0000\n",
      "  255.0000\n",
      "  255.0000\n",
      "  255.0000\n",
      "  255.0000\n",
      "\n"
     ]
    }
   ],
   "source": [
    "mean(graycircle,2)"
   ]
  },
  {
   "cell_type": "markdown",
   "metadata": {},
   "source": [
    "This returns a column vector of the mean pixel intensities of each row of the image. \n",
    "\n",
    "A useful note: to calculate the mean/max/min of the entire image, you write:\n",
    "> `mean/max/min(graycircle(:))`"
   ]
  },
  {
   "cell_type": "markdown",
   "metadata": {},
   "source": [
    "The `graycircle(:)` part of the code reshapes the matrix into a 1 dimensional vector that the function (mean/max/min) can be used on, resulting in a single value rather than an array of values. \n",
    "\n",
    "A final important note is that while for loops are important and powerful, you can clean up code (making it easier to read) using element-wise operations and range-indexing based operations. For example, with pseudo code:\n",
    "> `A.*B`\n",
    "\n",
    "Instead of\n",
    "> `for every element in A:\n",
    "    multiply element in A with element in B\n",
    "end`\n",
    "\n",
    "Now compare the two methods for yourself:"
   ]
  },
  {
   "cell_type": "code",
   "execution_count": 45,
   "metadata": {
    "collapsed": true
   },
   "outputs": [
    {
     "name": "stdout",
     "output_type": "stream",
     "text": [
      "\n",
      "A =\n",
      "\n",
      "     1\n",
      "     1\n",
      "     1\n",
      "\n",
      "\n",
      "B =\n",
      "\n",
      "     2\n",
      "\n"
     ]
    }
   ],
   "source": [
    "A = ones(3,1)\n",
    "B = 2"
   ]
  },
  {
   "cell_type": "code",
   "execution_count": 46,
   "metadata": {
    "collapsed": true
   },
   "outputs": [
    {
     "name": "stdout",
     "output_type": "stream",
     "text": [
      "\n",
      "C =\n",
      "\n",
      "     2\n",
      "     2\n",
      "     2\n",
      "\n"
     ]
    }
   ],
   "source": [
    "C = A.*B"
   ]
  },
  {
   "cell_type": "code",
   "execution_count": 49,
   "metadata": {
    "collapsed": true
   },
   "outputs": [
    {
     "name": "stdout",
     "output_type": "stream",
     "text": [
      "\n",
      "C =\n",
      "\n",
      "     2\n",
      "     2\n",
      "     2\n",
      "\n"
     ]
    }
   ],
   "source": [
    "for element = 1:length(A);\n",
    "    C(element, 1) = A(element, 1)*B;\n",
    "end\n",
    "C "
   ]
  },
  {
   "cell_type": "markdown",
   "metadata": {},
   "source": [
    "In the end, both scripts have the same output, but one is much easier to read than the other, and saves a lot of time typing!\n",
    "\n",
    "And this concludes your first tutorial in CLPS1520! Good luck with your assignment, bye until next time!"
   ]
  }
 ],
 "metadata": {
  "kernelspec": {
   "display_name": "Matlab",
   "language": "matlab",
   "name": "matlab"
  },
  "language_info": {
   "codemirror_mode": "octave",
   "file_extension": ".m",
   "help_links": [
    {
     "text": "MetaKernel Magics",
     "url": "https://github.com/calysto/metakernel/blob/master/metakernel/magics/README.md"
    }
   ],
   "mimetype": "text/x-matlab",
   "name": "matlab",
   "version": "0.11.0+12.gb9493db"
  }
 },
 "nbformat": 4,
 "nbformat_minor": 1
}
